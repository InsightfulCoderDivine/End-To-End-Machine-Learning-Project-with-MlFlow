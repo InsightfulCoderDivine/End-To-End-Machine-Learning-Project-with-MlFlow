{
 "cells": [
  {
   "cell_type": "code",
   "execution_count": 1,
   "metadata": {},
   "outputs": [
    {
     "data": {
      "text/plain": [
       "'c:\\\\Users\\\\User\\\\Documents\\\\EndToEndMLProjects\\\\End-To-End-Machine-Learning-Project-with-MlFlow\\\\research'"
      ]
     },
     "execution_count": 1,
     "metadata": {},
     "output_type": "execute_result"
    }
   ],
   "source": [
    "%pwd"
   ]
  },
  {
   "cell_type": "code",
   "execution_count": 2,
   "metadata": {},
   "outputs": [
    {
     "data": {
      "text/plain": [
       "'c:\\\\Users\\\\User\\\\Documents\\\\EndToEndMLProjects\\\\End-To-End-Machine-Learning-Project-with-MlFlow'"
      ]
     },
     "execution_count": 2,
     "metadata": {},
     "output_type": "execute_result"
    }
   ],
   "source": [
    "import os\n",
    "\n",
    "os.chdir('../')\n",
    "%pwd"
   ]
  },
  {
   "cell_type": "markdown",
   "metadata": {},
   "source": [
    "# 1. Update config.yaml"
   ]
  },
  {
   "cell_type": "markdown",
   "metadata": {},
   "source": [
    "# 2. Update the entity"
   ]
  },
  {
   "cell_type": "code",
   "execution_count": 3,
   "metadata": {},
   "outputs": [],
   "source": [
    "from dataclasses import dataclass\n",
    "from pathlib import Path\n",
    "\n",
    "@dataclass(frozen=True)\n",
    "class MissingValuesConfig:\n",
    "    \"\"\"\n",
    "    Configuration class for handling missing values in a dataset.\n",
    "\n",
    "    This dataclass stores the configuration details required for identifying and managing \n",
    "    missing values during data preprocessing. The `frozen=True` parameter ensures that \n",
    "    instances of this class are immutable.\n",
    "\n",
    "    Attributes:\n",
    "        root_dir (Path): The root directory where all related files and data are stored.\n",
    "        unzip_data_dir (Path): Directory containing the unzipped raw data files.\n",
    "        cleaned_data_dir (str): Directory where the cleaned data files will be stored \n",
    "                                after handling missing values.\n",
    "        STATUS_FILE (str): Path to the file where the status of missing value handling \n",
    "                           will be logged.\n",
    "    \"\"\"\n",
    "    root_dir: Path\n",
    "    unzip_data_dir: Path\n",
    "    cleaned_data_dir: str\n",
    "    STATUS_FILE: str"
   ]
  },
  {
   "cell_type": "markdown",
   "metadata": {},
   "source": [
    "# 3. Update the configuration manager in src config"
   ]
  },
  {
   "cell_type": "code",
   "execution_count": 4,
   "metadata": {},
   "outputs": [],
   "source": [
    "from mlproject.constants import *\n",
    "from mlproject.utils.common import read_yaml, create_directories"
   ]
  },
  {
   "cell_type": "code",
   "execution_count": null,
   "metadata": {},
   "outputs": [],
   "source": [
    "class ConfigurationManager:\n",
    "    \"\"\"\n",
    "    Manages the configuration and setup for the project.\n",
    "\n",
    "    This class is responsible for reading configuration files, creating required directories, \n",
    "    and providing specific configuration objects needed for various components of the project.\n",
    "\n",
    "    Attributes:\n",
    "        config (dict): Parsed content of the main configuration file.\n",
    "        params (dict): Parsed content of the parameters file.\n",
    "    \"\"\"\n",
    "    def __init__(\n",
    "        self,\n",
    "        config_filepath = CONFIG_FILE_PATH,\n",
    "        params_filepath = PARAMS_FILE_PATH\n",
    "        ) -> None:\n",
    "        \"\"\"\n",
    "        Initializes the ConfigurationManager.\n",
    "\n",
    "        Reads YAML configuration files for main configuration, parameters, and schema. \n",
    "        Also ensures that the root artifacts directory specified in the configuration is created.\n",
    "\n",
    "        Args:\n",
    "            config_filepath (str): Path to the main configuration YAML file. Default is `CONFIG_FILE_PATH`.\n",
    "            params_filepath (str): Path to the parameters YAML file. Default is `PARAMS_FILE_PATH`.           \n",
    "        \"\"\"\n",
    "        self.config = read_yaml(config_filepath)\n",
    "        self.params = read_yaml(params_filepath)\n",
    "        create_directories([self.config.artifacts_root])\n",
    "        \n",
    "    def get_missing_values_config(self) -> MissingValuesConfig:\n",
    "        \"\"\"\n",
    "        Creates and returns a `MissingValuesConfig` object for handling missing values.\n",
    "\n",
    "        This method retrieves the configuration details specific to handling missing values from \n",
    "        the main configuration file. It also ensures that the directories required for this step \n",
    "        are created.\n",
    "\n",
    "        Returns:\n",
    "            MissingValuesConfig: An instance of `MissingValuesConfig` containing paths \n",
    "            and other configuration details for handling missing values.\n",
    "\n",
    "        Raises:\n",
    "            Exception: If an error occurs while retrieving the missing values configuration.\n",
    "        \"\"\"\n",
    "        try:\n",
    "            config = self.config.handle_missing_values\n",
    "            create_directories([config.root_dir])\n",
    "            \n",
    "            missing_values_config = MissingValuesConfig(\n",
    "                root_dir=config.root_dir,\n",
    "                unzip_data_dir=config.unzip_data_dir,\n",
    "                cleaned_data_dir=config.cleaned_data_dir,\n",
    "                STATUS_FILE=config.STATUS_FILE,\n",
    "            )\n",
    "            return missing_values_config\n",
    "        except Exception as e:\n",
    "            raise e\n",
    "    "
   ]
  },
  {
   "cell_type": "markdown",
   "metadata": {},
   "source": [
    "# 4. Update the components"
   ]
  },
  {
   "cell_type": "code",
   "execution_count": 6,
   "metadata": {},
   "outputs": [],
   "source": [
    "from mlproject import logger\n",
    "import pandas as pd\n",
    "from mlproject.utils.common import get_missing_columns"
   ]
  },
  {
   "cell_type": "code",
   "execution_count": 7,
   "metadata": {},
   "outputs": [],
   "source": [
    "class HandleMissingValues:\n",
    "    def __init__(self, config: MissingValuesConfig):\n",
    "        self.config = config\n",
    "           \n",
    "    def handle_missing_values(self) -> pd.DataFrame:\n",
    "        try:\n",
    "            columns_having_rows_to_drop = [\n",
    "                    'loan_limit',\n",
    "                    'approv_in_adv',\n",
    "                    'loan_purpose',\n",
    "                    'Neg_ammortization',\n",
    "                    'age',\n",
    "                    'submission_of_application',\n",
    "                    'term']\n",
    "            \n",
    "            df = pd.read_csv(self.config.unzip_data_dir)\n",
    "            \n",
    "            # Drop rows with missing values in these columns\n",
    "            df.dropna(subset=columns_having_rows_to_drop, axis=0, inplace=True)\n",
    "        \n",
    "            df['income'] = df.groupby('age')['income'].transform(lambda x: x.fillna(x.median()))                    \n",
    "            df['property_value'] = df.groupby('Region')['property_value'].transform(lambda x: x.fillna(x.median()))\n",
    "            df['rate_of_interest'] = df['rate_of_interest'].transform(lambda x: x.fillna(x.mean()))\n",
    "            df['Interest_rate_spread'] = df['Interest_rate_spread'].transform(lambda x: x.fillna(x.mean()))\n",
    "            df['Upfront_charges'] = df['Upfront_charges'].transform(lambda x: x.fillna(x.median()))\n",
    "            df['LTV'] = df['LTV'].fillna((df['loan_amount'] / df['property_value']) * 100)\n",
    "            df['dtir1'] = df['dtir1'].interpolate(method='linear')\n",
    "\n",
    "            \n",
    "            # Save the cleaned DataFrame\n",
    "            cleaned_file_path = self.config.cleaned_data_dir  # File path for saving\n",
    "            create_directories([os.path.dirname(cleaned_file_path)])  # creates this directory \"artifacts/handle_missing_values\" if it doesn't already exist.\n",
    "            df.to_csv(cleaned_file_path, index=False)\n",
    "            \n",
    "            # Log status\n",
    "            with open(self.config.STATUS_FILE, \"a\") as status_file:\n",
    "                status_file.write(\"Missing values handled and data saved successfully.\\n\\n\")\n",
    "            return df\n",
    "        except Exception as e:\n",
    "            raise e\n",
    "        \n",
    "    def list_missing_values(self):\n",
    "        try:            \n",
    "            data_dir = self.config.cleaned_data_dir\n",
    "            df = pd.read_csv(data_dir)\n",
    "            # Filter columns with missing values\n",
    "            numeric_columns_with_na, category_columns_with_na, _, _ = get_missing_columns(df)\n",
    "\n",
    "            # Write final results\n",
    "            with open(self.config.STATUS_FILE, \"a\") as f:\n",
    "                f.write(\"Numeric Columns.\\n\")\n",
    "                f.write(f\"Columns with Missing Values: {numeric_columns_with_na}\")\n",
    "                f.write(\"\\nCategorical Columns.\\n\")\n",
    "                f.write(f\"Columns with Missing Values: {category_columns_with_na}\")\n",
    "\n",
    "        except Exception as e:\n",
    "            raise e"
   ]
  },
  {
   "cell_type": "markdown",
   "metadata": {},
   "source": [
    "# 5. Update the pipeline "
   ]
  },
  {
   "cell_type": "code",
   "execution_count": 9,
   "metadata": {},
   "outputs": [
    {
     "name": "stdout",
     "output_type": "stream",
     "text": [
      "[2024-11-20 10:50:43,280: 35 mlprojectLogger: INFO: common: .yaml file: config\\config.yaml loaded successfully.]\n",
      "[2024-11-20 10:50:43,283: 35 mlprojectLogger: INFO: common: .yaml file: params.yaml loaded successfully.]\n",
      "[2024-11-20 10:50:43,284: 54 mlprojectLogger: INFO: common: Created directory at artifacts]\n",
      "[2024-11-20 10:50:43,286: 54 mlprojectLogger: INFO: common: Created directory at artifacts/handle_missing_values]\n",
      "[2024-11-20 10:50:44,630: 54 mlprojectLogger: INFO: common: Created directory at artifacts/handle_missing_values]\n"
     ]
    }
   ],
   "source": [
    "# test run\n",
    "try:\n",
    "    # Initialize configuration manager\n",
    "    config = ConfigurationManager()\n",
    "    \n",
    "    # Get missing values configuration\n",
    "    missing_values_config = config.get_missing_values_config()\n",
    "    \n",
    "    # Handle missing values\n",
    "    missing_values_handler = HandleMissingValues(missing_values_config)\n",
    "    cleaned_df = missing_values_handler.handle_missing_values()\n",
    "    \n",
    "    # List missing values after handling\n",
    "    missing_values_handler.list_missing_values()\n",
    "    \n",
    "    \n",
    "except Exception as e:\n",
    "    raise e"
   ]
  },
  {
   "cell_type": "code",
   "execution_count": 10,
   "metadata": {},
   "outputs": [
    {
     "data": {
      "text/plain": [
       "ID                           0\n",
       "year                         0\n",
       "loan_limit                   0\n",
       "Gender                       0\n",
       "approv_in_adv                0\n",
       "loan_type                    0\n",
       "loan_purpose                 0\n",
       "Credit_Worthiness            0\n",
       "open_credit                  0\n",
       "business_or_commercial       0\n",
       "loan_amount                  0\n",
       "rate_of_interest             0\n",
       "Interest_rate_spread         0\n",
       "Upfront_charges              0\n",
       "term                         0\n",
       "Neg_ammortization            0\n",
       "interest_only                0\n",
       "lump_sum_payment             0\n",
       "property_value               0\n",
       "construction_type            0\n",
       "occupancy_type               0\n",
       "Secured_by                   0\n",
       "total_units                  0\n",
       "income                       0\n",
       "credit_type                  0\n",
       "Credit_Score                 0\n",
       "co-applicant_credit_type     0\n",
       "age                          0\n",
       "submission_of_application    0\n",
       "LTV                          0\n",
       "Region                       0\n",
       "Security_Type                0\n",
       "Status                       0\n",
       "dtir1                        0\n",
       "dtype: int64"
      ]
     },
     "execution_count": 10,
     "metadata": {},
     "output_type": "execute_result"
    }
   ],
   "source": [
    "cleaned_df.isna().sum()"
   ]
  }
 ],
 "metadata": {
  "kernelspec": {
   "display_name": "mlproject",
   "language": "python",
   "name": "python3"
  },
  "language_info": {
   "codemirror_mode": {
    "name": "ipython",
    "version": 3
   },
   "file_extension": ".py",
   "mimetype": "text/x-python",
   "name": "python",
   "nbconvert_exporter": "python",
   "pygments_lexer": "ipython3",
   "version": "3.12.4"
  }
 },
 "nbformat": 4,
 "nbformat_minor": 2
}
