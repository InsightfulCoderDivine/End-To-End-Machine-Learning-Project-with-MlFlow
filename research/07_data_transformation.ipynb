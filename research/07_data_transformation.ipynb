{
 "cells": [
  {
   "cell_type": "code",
   "execution_count": 1,
   "metadata": {},
   "outputs": [
    {
     "data": {
      "text/plain": [
       "'c:\\\\Users\\\\User\\\\Documents\\\\EndToEndMLProjects\\\\End-To-End-Machine-Learning-Project-with-MlFlow\\\\research'"
      ]
     },
     "execution_count": 1,
     "metadata": {},
     "output_type": "execute_result"
    }
   ],
   "source": [
    "%pwd"
   ]
  },
  {
   "cell_type": "code",
   "execution_count": 2,
   "metadata": {},
   "outputs": [
    {
     "data": {
      "text/plain": [
       "'c:\\\\Users\\\\User\\\\Documents\\\\EndToEndMLProjects\\\\End-To-End-Machine-Learning-Project-with-MlFlow'"
      ]
     },
     "execution_count": 2,
     "metadata": {},
     "output_type": "execute_result"
    }
   ],
   "source": [
    "import os\n",
    "\n",
    "os.chdir('../')\n",
    "%pwd"
   ]
  },
  {
   "cell_type": "markdown",
   "metadata": {},
   "source": [
    "# 1. Update config.yaml"
   ]
  },
  {
   "cell_type": "markdown",
   "metadata": {},
   "source": [
    "# 2. Update the entity"
   ]
  },
  {
   "cell_type": "code",
   "execution_count": 3,
   "metadata": {},
   "outputs": [],
   "source": [
    "from dataclasses import dataclass\n",
    "from pathlib import Path"
   ]
  },
  {
   "cell_type": "code",
   "execution_count": 5,
   "metadata": {},
   "outputs": [],
   "source": [
    "@dataclass(frozen=True)\n",
    "class DataTransformationConfig:\n",
    "    root_dir: Path\n",
    "    X_train_data_path: str\n",
    "    X_test_data_path: str\n",
    "    y_train_data_path: str\n",
    "    y_test_data_path: str\n",
    "    "
   ]
  },
  {
   "cell_type": "markdown",
   "metadata": {},
   "source": [
    "# 3. Update the configuration manager in src config"
   ]
  },
  {
   "cell_type": "code",
   "execution_count": 6,
   "metadata": {},
   "outputs": [],
   "source": [
    "from mlproject.constants import *\n",
    "from mlproject.utils.common import create_directories, read_yaml"
   ]
  },
  {
   "cell_type": "code",
   "execution_count": null,
   "metadata": {},
   "outputs": [],
   "source": [
    "class ConfigurationManager:\n",
    "    \"\"\"\n",
    "    Manages the configuration and setup for the project.\n",
    "\n",
    "    This class is responsible for reading configuration files, creating required directories, \n",
    "    and providing specific configuration objects needed for various components of the project.\n",
    "\n",
    "    Attributes:\n",
    "        config (dict): Parsed content of the main configuration file.\n",
    "        params (dict): Parsed content of the parameters file.\n",
    "    \"\"\"\n",
    "    def __init__(\n",
    "        self,\n",
    "        config_filepath = CONFIG_FILE_PATH,\n",
    "        params_filepath = PARAMS_FILE_PATH\n",
    "        ) -> None:\n",
    "        \"\"\"\n",
    "        Initializes the ConfigurationManager.\n",
    "\n",
    "        Reads YAML configuration files for main configuration, parameters, and schema. \n",
    "        Also ensures that the root artifacts directory specified in the configuration is created.\n",
    "\n",
    "        Args:\n",
    "            config_filepath (str): Path to the main configuration YAML file. Default is `CONFIG_FILE_PATH`.\n",
    "            params_filepath (str): Path to the parameters YAML file. Default is `PARAMS_FILE_PATH`.           \n",
    "        \"\"\"\n",
    "        self.config = read_yaml(config_filepath)\n",
    "        self.params = read_yaml(params_filepath)\n",
    "        create_directories([self.config.artifacts_root])\n",
    "        \n",
    "    def get_data_transformation_config(self) -> DataTransformationConfig:\n",
    "        try:\n",
    "            config = self.config.data_transformation\n",
    "            # Not necessary because we are not saving any file \n",
    "            # All transformed data would be saved back to `data_split` directory\n",
    "            # create_directories([config.root_dir])\n",
    "            \n",
    "            data_transformation_config = DataTransformationConfig(\n",
    "                root_dir=config.root_dir,\n",
    "                X_train_data_path=config.X_train_data_path,\n",
    "                X_test_data_path=config.X_test_data_path,\n",
    "                y_train_data_path=config.y_train_data_path,\n",
    "                y_test_data_path=config.y_test_data_path\n",
    "            )\n",
    "            return data_transformation_config\n",
    "        except Exception as e:\n",
    "            raise e"
   ]
  },
  {
   "cell_type": "markdown",
   "metadata": {},
   "source": [
    "# 4. Update the components"
   ]
  },
  {
   "cell_type": "code",
   "execution_count": 9,
   "metadata": {},
   "outputs": [],
   "source": [
    "import pandas as pd\n",
    "from typing import Tuple\n",
    "from mlproject import logger\n",
    "from sklearn.preprocessing import LabelEncoder"
   ]
  },
  {
   "cell_type": "code",
   "execution_count": 16,
   "metadata": {},
   "outputs": [],
   "source": [
    "class LabelEncoding:\n",
    "    def __init__(self, config: DataTransformationConfig):\n",
    "        self.config = config\n",
    "        \n",
    "    def apply_label_encoding(self) -> Tuple[pd.Series, pd.Series]:\n",
    "        try:\n",
    "            y_train = pd.read_csv(self.config.y_train_data_path)\n",
    "            y_test = pd.read_csv(self.config.y_test_data_path)\n",
    "\n",
    "            # Converting first column to Series \n",
    "            y_train = y_train.iloc[:,0]\n",
    "            y_test = y_test.iloc[:,0]\n",
    "            \n",
    "            labelEncoder = LabelEncoder()\n",
    "\n",
    "            y_train = labelEncoder.fit_transform(y_train)\n",
    "            y_test = labelEncoder.transform(y_test)\n",
    "\n",
    "            y_train = pd.Series(y_train, name='Status')\n",
    "            y_test = pd.Series(y_test, name='Status')\n",
    "            \n",
    "            y_train.to_csv(self.config.y_train_data_path, index=False)\n",
    "            y_test.to_csv(self.config.y_test_data_path, index=False)\n",
    "            \n",
    "            return y_train, y_test\n",
    "        except Exception as e:\n",
    "            raise e"
   ]
  },
  {
   "cell_type": "code",
   "execution_count": 17,
   "metadata": {},
   "outputs": [],
   "source": [
    "class TargetEncoding:\n",
    "    def __init__(self, config: DataTransformationConfig):\n",
    "        self.config = config\n",
    "        \n",
    "    def apply_target_encoding(self) -> Tuple[pd.DataFrame, pd.DataFrame]:\n",
    "        try:\n",
    "            X_train = pd.read_csv(self.config.X_train_data_path)\n",
    "            X_test = pd.read_csv(self.config.X_test_data_path)\n",
    "            y_train = pd.read_csv(self.config.y_train_data_path)\n",
    "            target_column ='Status'\n",
    "            \n",
    "            # Step 1: Combine `X_train` and `y_train` for mean encoding\n",
    "            security_type_df = pd.concat([X_train['Security_Type'], y_train], axis=1)\n",
    "\n",
    "            # Step 2: Calculate mean target for each category in the training set\n",
    "            security_type_mean = security_type_df.groupby('Security_Type')[target_column].mean()\n",
    "\n",
    "            # Step 3: Map mean encoding to the training set\n",
    "            X_train['Security_Type'] = X_train['Security_Type'].map(security_type_mean)\n",
    "\n",
    "            # Step 4: Map mean encoding to the test set\n",
    "            X_test['Security_Type'] = X_test['Security_Type'].map(security_type_mean)\n",
    "\n",
    "            # Step 5: Handle categories in test set that are missing in training\n",
    "            fallback_value = y_train.mean()  # Overall mean target value\n",
    "            X_test['Security_Type'] = X_test['Security_Type'].fillna(fallback_value)\n",
    "            \n",
    "            X_train.to_csv(self.config.X_train_data_path, index = False)\n",
    "            X_test.to_csv(self.config.X_test_data_path, index = False)\n",
    "            \n",
    "            return X_train, X_test\n",
    "        except Exception as e:\n",
    "            raise e"
   ]
  },
  {
   "cell_type": "code",
   "execution_count": 18,
   "metadata": {},
   "outputs": [],
   "source": [
    "class OneHotEncoding:\n",
    "    def __init__(self, config: DataTransformationConfig):\n",
    "        self.config = config\n",
    "    \n",
    "    def apply_one_hot_encoding(self) -> Tuple[pd.DataFrame, pd.DataFrame]:\n",
    "        try:\n",
    "            \n",
    "            X_train = pd.read_csv(self.config.X_train_data_path)\n",
    "            X_test = pd.read_csv(self.config.X_test_data_path)\n",
    "            nunique_2_to_3 = [\n",
    "                'loan_limit',\n",
    "                'approv_in_adv',\n",
    "                'loan_type',\n",
    "                'Credit_Worthiness',\n",
    "                'open_credit',\n",
    "                'business_or_commercial',\n",
    "                'Neg_ammortization',\n",
    "                'interest_only',\n",
    "                'lump_sum_payment',\n",
    "                'construction_type',\n",
    "                'occupancy_type',\n",
    "                'Secured_by',\n",
    "                'co-applicant_credit_type',\n",
    "                'submission_of_application',\n",
    "                'Security_Type'\n",
    "                ]\n",
    "            \n",
    "            # Remove 'Security_Type' as it will not be one-hot encoded\n",
    "            nunique_2_to_3.remove('Security_Type')\n",
    "\n",
    "            # One-hot encode on X_train and assign back to X_train\n",
    "            X_train = pd.get_dummies(X_train, columns=nunique_2_to_3)\n",
    "\n",
    "            # One-hot encode on X_test and ensure consistent columns with X_train\n",
    "            X_test = pd.get_dummies(X_test, columns=nunique_2_to_3)\n",
    "            X_test = X_test.reindex(columns=X_train.columns, fill_value=0)\n",
    "            \n",
    "            X_train.to_csv(self.config.X_train_data_path, index = False)\n",
    "            X_test.to_csv(self.config.X_test_data_path, index = False)\n",
    "            \n",
    "            return X_train, X_test\n",
    "        except Exception as e:\n",
    "            raise e"
   ]
  },
  {
   "cell_type": "code",
   "execution_count": null,
   "metadata": {},
   "outputs": [],
   "source": [
    "class FrequencyEncoding:\n",
    "    def __init__(self, config: DataTransformationConfig):\n",
    "        self.config = config\n",
    "    \n",
    "    def apply_frequency_encoding(self) -> Tuple[pd.DataFrame, pd.DataFrame]:\n",
    "        try:\n",
    "            X_train = pd.read_csv(self.config.X_train_data_path)\n",
    "            X_test = pd.read_csv(self.config.X_test_data_path)\n",
    "            greater_than_3 = [\n",
    "                'Gender', 'loan_purpose', 'total_units', 'credit_type', 'age', 'Region'\n",
    "                ]\n",
    "            \n",
    "            for col in greater_than_3:\n",
    "                # Step 1: Calculate frequency map from X_train\n",
    "                frequency_map = X_train[col].value_counts().to_dict()\n",
    "                \n",
    "                # Step 2: Apply frequency map to X_train\n",
    "                X_train[col] = X_train[col].map(frequency_map)\n",
    "                \n",
    "                # Step 3: Apply the same frequency map to X_test\n",
    "                X_test[col] = X_test[col].map(frequency_map)\n",
    "                \n",
    "                # Step 4: Handle categories in X_test not seen in X_train\n",
    "                X_test[col] = X_test[col].fillna(0)  # Replace NaN with 0\n",
    "               \n",
    "            # Save the transformed data back to data_split directory \n",
    "            X_train.to_csv(self.config.X_train_data_path, index = False)\n",
    "            X_test.to_csv(self.config.X_test_data_path, index = False)\n",
    "            \n",
    "            return X_train, X_test\n",
    "        except Exception as e:\n",
    "            raise e"
   ]
  },
  {
   "cell_type": "markdown",
   "metadata": {},
   "source": [
    "# 5. Update pipeline"
   ]
  },
  {
   "cell_type": "code",
   "execution_count": null,
   "metadata": {},
   "outputs": [
    {
     "name": "stdout",
     "output_type": "stream",
     "text": [
      "[2024-11-21 12:36:07,074: 35 mlprojectLogger: INFO: common: .yaml file: config\\config.yaml loaded successfully.]\n",
      "[2024-11-21 12:36:07,074: 35 mlprojectLogger: INFO: common: .yaml file: params.yaml loaded successfully.]\n",
      "[2024-11-21 12:36:07,074: 54 mlprojectLogger: INFO: common: Created directory at artifacts]\n",
      "[2024-11-21 12:36:07,074: 54 mlprojectLogger: INFO: common: Created directory at artifacts/data_transformation]\n"
     ]
    }
   ],
   "source": [
    "# # Run this here first to check if it works wihout error\n",
    "# # If it does then convert it to ml pipeline\n",
    "\n",
    "# try:\n",
    "#     config = ConfigurationManager()\n",
    "#     data_transformation_config = config.get_data_transformation_config()\n",
    "    \n",
    "#     y_train, y_test = LabelEncoding(data_transformation_config).apply_label_encoding()\n",
    "#     X_train, X_test = TargetEncoding(data_transformation_config).apply_target_encoding()\n",
    "#     X_train, X_test = OneHotEncoding(data_transformation_config).apply_one_hot_encoding()\n",
    "#     X_train, X_test = FrequencyEncoding(data_transformation_config).apply_frequency_encoding()\n",
    "        \n",
    "# except Exception as e:\n",
    "#     raise e"
   ]
  },
  {
   "cell_type": "code",
   "execution_count": 26,
   "metadata": {},
   "outputs": [
    {
     "name": "stdout",
     "output_type": "stream",
     "text": [
      "<class 'pandas.core.frame.DataFrame'>\n",
      "RangeIndex: 19383 entries, 0 to 19382\n",
      "Data columns (total 49 columns):\n",
      " #   Column                                 Non-Null Count  Dtype  \n",
      "---  ------                                 --------------  -----  \n",
      " 0   ID                                     19383 non-null  int64  \n",
      " 1   year                                   19383 non-null  int64  \n",
      " 2   Gender                                 19383 non-null  int64  \n",
      " 3   loan_purpose                           19383 non-null  int64  \n",
      " 4   loan_amount                            19383 non-null  int64  \n",
      " 5   rate_of_interest                       19383 non-null  float64\n",
      " 6   Interest_rate_spread                   19383 non-null  float64\n",
      " 7   Upfront_charges                        19383 non-null  float64\n",
      " 8   term                                   19383 non-null  int64  \n",
      " 9   property_value                         19383 non-null  float64\n",
      " 10  total_units                            19383 non-null  int64  \n",
      " 11  income                                 19383 non-null  float64\n",
      " 12  credit_type                            19383 non-null  int64  \n",
      " 13  Credit_Score                           19383 non-null  int64  \n",
      " 14  age                                    19383 non-null  int64  \n",
      " 15  LTV                                    19383 non-null  float64\n",
      " 16  Region                                 19383 non-null  int64  \n",
      " 17  Security_Type                          19383 non-null  float64\n",
      " 18  dtir1                                  19383 non-null  float64\n",
      " 19  loan_limit_cf                          19383 non-null  bool   \n",
      " 20  loan_limit_ncf                         19383 non-null  bool   \n",
      " 21  approv_in_adv_nopre                    19383 non-null  bool   \n",
      " 22  approv_in_adv_pre                      19383 non-null  bool   \n",
      " 23  loan_type_type1                        19383 non-null  bool   \n",
      " 24  loan_type_type2                        19383 non-null  bool   \n",
      " 25  loan_type_type3                        19383 non-null  bool   \n",
      " 26  Credit_Worthiness_l1                   19383 non-null  bool   \n",
      " 27  Credit_Worthiness_l2                   19383 non-null  bool   \n",
      " 28  open_credit_nopc                       19383 non-null  bool   \n",
      " 29  open_credit_opc                        19383 non-null  bool   \n",
      " 30  business_or_commercial_b/c             19383 non-null  bool   \n",
      " 31  business_or_commercial_nob/c           19383 non-null  bool   \n",
      " 32  Neg_ammortization_neg_amm              19383 non-null  bool   \n",
      " 33  Neg_ammortization_not_neg              19383 non-null  bool   \n",
      " 34  interest_only_int_only                 19383 non-null  bool   \n",
      " 35  interest_only_not_int                  19383 non-null  bool   \n",
      " 36  lump_sum_payment_lpsm                  19383 non-null  bool   \n",
      " 37  lump_sum_payment_not_lpsm              19383 non-null  bool   \n",
      " 38  construction_type_mh                   19383 non-null  bool   \n",
      " 39  construction_type_sb                   19383 non-null  bool   \n",
      " 40  occupancy_type_Investment Residential  19383 non-null  bool   \n",
      " 41  occupancy_type_Primary Residential     19383 non-null  bool   \n",
      " 42  occupancy_type_Secondary Residdential  19383 non-null  bool   \n",
      " 43  Secured_by_home                        19383 non-null  bool   \n",
      " 44  Secured_by_land                        19383 non-null  bool   \n",
      " 45  co-applicant_credit_type_CIB           19383 non-null  bool   \n",
      " 46  co-applicant_credit_type_EXP           19383 non-null  bool   \n",
      " 47  submission_of_application_not_inst     19383 non-null  bool   \n",
      " 48  submission_of_application_to_inst      19383 non-null  bool   \n",
      "dtypes: bool(30), float64(8), int64(11)\n",
      "memory usage: 3.4 MB\n"
     ]
    }
   ],
   "source": [
    "a = pd.read_csv('artifacts/data_split/X_train.csv')\n",
    "b = pd.read_csv('artifacts/data_split/X_test.csv')\n",
    "c = pd.read_csv('artifacts/data_split/y_train.csv')\n",
    "d = pd.read_csv('artifacts/data_split/y_test.csv')\n",
    "\n",
    "# Converting first column to Series \n",
    "c = c.iloc[:,0]\n",
    "d = d.iloc[:,0]\n",
    "\n",
    "b.info()"
   ]
  },
  {
   "cell_type": "code",
   "execution_count": 25,
   "metadata": {},
   "outputs": [
    {
     "data": {
      "text/plain": [
       "0        0\n",
       "1        1\n",
       "2        1\n",
       "3        0\n",
       "4        0\n",
       "        ..\n",
       "19378    0\n",
       "19379    0\n",
       "19380    0\n",
       "19381    0\n",
       "19382    1\n",
       "Name: Status, Length: 19383, dtype: int64"
      ]
     },
     "execution_count": 25,
     "metadata": {},
     "output_type": "execute_result"
    }
   ],
   "source": [
    "d"
   ]
  }
 ],
 "metadata": {
  "kernelspec": {
   "display_name": "mlproject",
   "language": "python",
   "name": "python3"
  },
  "language_info": {
   "codemirror_mode": {
    "name": "ipython",
    "version": 3
   },
   "file_extension": ".py",
   "mimetype": "text/x-python",
   "name": "python",
   "nbconvert_exporter": "python",
   "pygments_lexer": "ipython3",
   "version": "3.12.4"
  }
 },
 "nbformat": 4,
 "nbformat_minor": 2
}
