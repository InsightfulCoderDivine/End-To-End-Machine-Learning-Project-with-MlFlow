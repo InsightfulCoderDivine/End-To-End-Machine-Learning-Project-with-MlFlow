{
 "cells": [
  {
   "cell_type": "code",
   "execution_count": 1,
   "metadata": {},
   "outputs": [
    {
     "data": {
      "text/plain": [
       "'c:\\\\Users\\\\User\\\\Documents\\\\EndToEndMLProjects\\\\End-To-End-Machine-Learning-Project-with-MlFlow\\\\research'"
      ]
     },
     "execution_count": 1,
     "metadata": {},
     "output_type": "execute_result"
    }
   ],
   "source": [
    "%pwd"
   ]
  },
  {
   "cell_type": "code",
   "execution_count": 2,
   "metadata": {},
   "outputs": [
    {
     "data": {
      "text/plain": [
       "'c:\\\\Users\\\\User\\\\Documents\\\\EndToEndMLProjects\\\\End-To-End-Machine-Learning-Project-with-MlFlow'"
      ]
     },
     "execution_count": 2,
     "metadata": {},
     "output_type": "execute_result"
    }
   ],
   "source": [
    "import os\n",
    "\n",
    "os.chdir('../')\n",
    "%pwd"
   ]
  },
  {
   "cell_type": "markdown",
   "metadata": {},
   "source": [
    "# 1. Update config.yaml"
   ]
  },
  {
   "cell_type": "markdown",
   "metadata": {},
   "source": [
    "# 2. Update the entity"
   ]
  },
  {
   "cell_type": "code",
   "execution_count": 3,
   "metadata": {},
   "outputs": [],
   "source": [
    "from dataclasses import dataclass\n",
    "from pathlib import Path"
   ]
  },
  {
   "cell_type": "code",
   "execution_count": 4,
   "metadata": {},
   "outputs": [],
   "source": [
    "@dataclass(frozen=True)\n",
    "class DataSplitConfig:\n",
    "    root_dir: Path\n",
    "    data_path: str\n",
    "    X_train_data_path: str\n",
    "    X_test_data_path: str\n",
    "    y_train_data_path: str\n",
    "    y_test_data_path: str"
   ]
  },
  {
   "cell_type": "markdown",
   "metadata": {},
   "source": [
    "# 3. Update the configuration manager in src config"
   ]
  },
  {
   "cell_type": "code",
   "execution_count": 5,
   "metadata": {},
   "outputs": [],
   "source": [
    "from mlproject.constants import *\n",
    "from mlproject.utils.common import create_directories, read_yaml"
   ]
  },
  {
   "cell_type": "code",
   "execution_count": 6,
   "metadata": {},
   "outputs": [],
   "source": [
    "class ConfigurationManager:\n",
    "    \"\"\"\n",
    "    Manages the configuration and setup for the project.\n",
    "\n",
    "    This class is responsible for reading configuration files, creating required directories, \n",
    "    and providing specific configuration objects needed for various components of the project.\n",
    "\n",
    "    Attributes:\n",
    "        config (dict): Parsed content of the main configuration file.\n",
    "        params (dict): Parsed content of the parameters file.\n",
    "    \"\"\"\n",
    "    def __init__(\n",
    "        self,\n",
    "        config_filepath = CONFIG_FILE_PATH,\n",
    "        params_filepath = PARAMS_FILE_PATH\n",
    "        ) -> None:\n",
    "        \"\"\"\n",
    "        Initializes the ConfigurationManager.\n",
    "\n",
    "        Reads YAML configuration files for main configuration, parameters, and schema. \n",
    "        Also ensures that the root artifacts directory specified in the configuration is created.\n",
    "\n",
    "        Args:\n",
    "            config_filepath (str): Path to the main configuration YAML file. Default is `CONFIG_FILE_PATH`.\n",
    "            params_filepath (str): Path to the parameters YAML file. Default is `PARAMS_FILE_PATH`.           \n",
    "        \"\"\"\n",
    "        self.config = read_yaml(config_filepath)\n",
    "        self.params = read_yaml(params_filepath)\n",
    "        create_directories([self.config.artifacts_root])\n",
    "        \n",
    "    def get_data_split_config(self) -> DataSplitConfig:\n",
    "        try:\n",
    "            config = self.config.data_split\n",
    "            create_directories([config.root_dir])\n",
    "            \n",
    "            data_split_config = DataSplitConfig(\n",
    "                root_dir=config.root_dir,\n",
    "                data_path=config.data_path,\n",
    "                X_train_data_path=config.X_train_data_path,\n",
    "                X_test_data_path=config.X_test_data_path,\n",
    "                y_train_data_path=config.y_train_data_path,\n",
    "                y_test_data_path=config.y_test_data_path\n",
    "            )\n",
    "            return data_split_config\n",
    "        except Exception as e:\n",
    "            raise e"
   ]
  },
  {
   "cell_type": "markdown",
   "metadata": {},
   "source": [
    "# 4. Update the components"
   ]
  },
  {
   "cell_type": "code",
   "execution_count": 7,
   "metadata": {},
   "outputs": [],
   "source": [
    "from typing import Tuple\n",
    "import pandas as pd\n",
    "\n",
    "from mlproject import logger\n",
    "from sklearn.model_selection import train_test_split"
   ]
  },
  {
   "cell_type": "code",
   "execution_count": 8,
   "metadata": {},
   "outputs": [],
   "source": [
    "class DataSplit:\n",
    "    def __init__(self, config: DataSplitConfig) -> None:\n",
    "        self.config = config\n",
    "        \n",
    "    def split_data(self) -> Tuple[pd.DataFrame, pd.DataFrame, pd.Series, pd.Series]:\n",
    "        try:\n",
    "            df = pd.read_csv(self.config.data_path)\n",
    "            \n",
    "            X = df.drop(columns=['Status'])\n",
    "            y = df['Status']\n",
    "            X_train, X_test, y_train, y_test = train_test_split(X, y, test_size=0.2, random_state=42, stratify=y)\n",
    "\n",
    "            X_train.to_csv(self.config.X_train_data_path, index = False)\n",
    "            X_test.to_csv(self.config.X_test_data_path, index = False)\n",
    "            y_train.to_csv(self.config.y_train_data_path, index=False)\n",
    "            y_test.to_csv(self.config.y_test_data_path, index=False)\n",
    "\n",
    "            return X_train, X_test, y_train, y_test\n",
    "        except Exception as e:\n",
    "            raise e"
   ]
  },
  {
   "cell_type": "markdown",
   "metadata": {},
   "source": [
    "# 5. Update pipeline"
   ]
  },
  {
   "cell_type": "code",
   "execution_count": 9,
   "metadata": {},
   "outputs": [
    {
     "name": "stdout",
     "output_type": "stream",
     "text": [
      "[2024-11-21 11:15:07,561: 35 mlprojectLogger: INFO: common: .yaml file: config\\config.yaml loaded successfully.]\n",
      "[2024-11-21 11:15:07,570: 35 mlprojectLogger: INFO: common: .yaml file: params.yaml loaded successfully.]\n",
      "[2024-11-21 11:15:07,573: 54 mlprojectLogger: INFO: common: Created directory at artifacts]\n",
      "[2024-11-21 11:15:07,575: 54 mlprojectLogger: INFO: common: Created directory at artifacts/data_split]\n"
     ]
    }
   ],
   "source": [
    "try:\n",
    "    config = ConfigurationManager()\n",
    "    data_split_config = config.get_data_split_config()\n",
    "    spliter = DataSplit(data_split_config)\n",
    "    X_train, X_test, y_train, y_test = spliter.split_data()\n",
    "except Exception as e:\n",
    "    raise e"
   ]
  },
  {
   "cell_type": "code",
   "execution_count": null,
   "metadata": {},
   "outputs": [
    {
     "name": "stdout",
     "output_type": "stream",
     "text": [
      "X Training set size:  (77530, 33)\n",
      "X Testing set size:  (19383, 33)\n",
      "y Training set size:  (77530,)\n",
      "y Testing set size:  (19383,)\n"
     ]
    }
   ],
   "source": [
    "a = pd.read_csv('artifacts/data_split/X_train.csv')\n",
    "b = pd.read_csv('artifacts/data_split/X_test.csv')\n",
    "c = pd.read_csv('artifacts/data_split/y_train.csv')\n",
    "d = pd.read_csv('artifacts/data_split/y_test.csv')\n",
    "\n",
    "# Converting first column to Series \n",
    "c = c.iloc[:,0]\n",
    "d = d.iloc[:,0]\n",
    "\n",
    "\n",
    "print(\"X Training set size: \", a.shape)\n",
    "print(\"X Testing set size: \", b.shape)\n",
    "print(\"y Training set size: \", c.shape)\n",
    "print(\"y Testing set size: \", d.shape)"
   ]
  },
  {
   "cell_type": "code",
   "execution_count": 15,
   "metadata": {},
   "outputs": [
    {
     "name": "stdout",
     "output_type": "stream",
     "text": [
      "X Training set size:  (77530, 33)\n",
      "X Testing set size:  (19383, 33)\n",
      "y Training set size:  (77530,)\n",
      "y Testing set size:  (19383,)\n"
     ]
    }
   ],
   "source": [
    "\n",
    "print(\"X Training set size: \", X_train.shape)\n",
    "print(\"X Testing set size: \", X_test.shape)\n",
    "print(\"y Training set size: \", y_train.shape)\n",
    "print(\"y Testing set size: \", y_test.shape)"
   ]
  }
 ],
 "metadata": {
  "kernelspec": {
   "display_name": "mlproject",
   "language": "python",
   "name": "python3"
  },
  "language_info": {
   "codemirror_mode": {
    "name": "ipython",
    "version": 3
   },
   "file_extension": ".py",
   "mimetype": "text/x-python",
   "name": "python",
   "nbconvert_exporter": "python",
   "pygments_lexer": "ipython3",
   "version": "3.12.4"
  }
 },
 "nbformat": 4,
 "nbformat_minor": 2
}
