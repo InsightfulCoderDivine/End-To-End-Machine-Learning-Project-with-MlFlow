{
 "cells": [
  {
   "cell_type": "code",
   "execution_count": 1,
   "metadata": {},
   "outputs": [
    {
     "data": {
      "text/plain": [
       "'c:\\\\Users\\\\User\\\\Documents\\\\EndToEndMLProjects\\\\End-To-End-Machine-Learning-Project-with-MlFlow\\\\research'"
      ]
     },
     "execution_count": 1,
     "metadata": {},
     "output_type": "execute_result"
    }
   ],
   "source": [
    "%pwd"
   ]
  },
  {
   "cell_type": "code",
   "execution_count": 2,
   "metadata": {},
   "outputs": [
    {
     "data": {
      "text/plain": [
       "'c:\\\\Users\\\\User\\\\Documents\\\\EndToEndMLProjects\\\\End-To-End-Machine-Learning-Project-with-MlFlow'"
      ]
     },
     "execution_count": 2,
     "metadata": {},
     "output_type": "execute_result"
    }
   ],
   "source": [
    "import os\n",
    "\n",
    "os.chdir('../')\n",
    "%pwd"
   ]
  },
  {
   "cell_type": "markdown",
   "metadata": {},
   "source": [
    "# 1. Update config.yaml"
   ]
  },
  {
   "cell_type": "markdown",
   "metadata": {},
   "source": [
    "# 2. Update the entity"
   ]
  },
  {
   "cell_type": "code",
   "execution_count": 4,
   "metadata": {},
   "outputs": [],
   "source": [
    "from dataclasses import dataclass\n",
    "from pathlib import Path\n"
   ]
  },
  {
   "cell_type": "code",
   "execution_count": null,
   "metadata": {},
   "outputs": [],
   "source": [
    "@dataclass(frozen=True)\n",
    "class OutlierDetectionConfig:\n",
    "    \"\"\"\n",
    "    Configuration class for outlier detection in a dataset.\n",
    "\n",
    "    This dataclass contains the file paths and directories needed for identifying and \n",
    "    handling outliers during data preprocessing. The `frozen=True` parameter ensures \n",
    "    immutability of the configuration object.\n",
    "\n",
    "    Attributes:\n",
    "        root_dir (Path): The root directory for storing all related files and outputs.\n",
    "        manipulated_data_dir (str): Path to the directory containing the data after initial manipulations.\n",
    "        data_without_outliers_dir (str): Path to the directory where data without outliers will be saved.\n",
    "        STATUS_FILE (str): Path to the file for logging the status of outlier detection operations.\n",
    "    \"\"\"\n",
    "    root_dir: Path\n",
    "    manipulated_data_dir: str\n",
    "    data_without_outliers_dir: str\n",
    "    STATUS_FILE: str"
   ]
  },
  {
   "cell_type": "markdown",
   "metadata": {},
   "source": [
    "# 3. Update the configuration manager in src config"
   ]
  },
  {
   "cell_type": "code",
   "execution_count": 6,
   "metadata": {},
   "outputs": [],
   "source": [
    "from mlproject.constants import *\n",
    "from mlproject.utils.common import read_yaml, create_directories"
   ]
  },
  {
   "cell_type": "code",
   "execution_count": 7,
   "metadata": {},
   "outputs": [],
   "source": [
    "class ConfigurationManager:\n",
    "    \"\"\"\n",
    "    Manages the configuration and setup for the project.\n",
    "\n",
    "    This class is responsible for reading configuration files, creating required directories, \n",
    "    and providing specific configuration objects needed for various components of the project.\n",
    "\n",
    "    Attributes:\n",
    "        config (dict): Parsed content of the main configuration file.\n",
    "        params (dict): Parsed content of the parameters file.\n",
    "    \"\"\"\n",
    "    def __init__(\n",
    "        self,\n",
    "        config_filepath = CONFIG_FILE_PATH,\n",
    "        params_filepath = PARAMS_FILE_PATH\n",
    "        ) -> None:\n",
    "        \"\"\"\n",
    "        Initializes the ConfigurationManager.\n",
    "\n",
    "        Reads YAML configuration files for main configuration, parameters, and schema. \n",
    "        Also ensures that the root artifacts directory specified in the configuration is created.\n",
    "\n",
    "        Args:\n",
    "            config_filepath (str): Path to the main configuration YAML file. Default is `CONFIG_FILE_PATH`.\n",
    "            params_filepath (str): Path to the parameters YAML file. Default is `PARAMS_FILE_PATH`.           \n",
    "        \"\"\"\n",
    "        self.config = read_yaml(config_filepath)\n",
    "        self.params = read_yaml(params_filepath)\n",
    "        create_directories([self.config.artifacts_root])\n",
    "        \n",
    "    def get_outlier_detection_config(self) -> OutlierDetectionConfig:\n",
    "        try:\n",
    "            config = self.config.outlier_detection\n",
    "            create_directories([config.root_dir])\n",
    "            \n",
    "            outlier_detection_config = OutlierDetectionConfig(\n",
    "                root_dir=config.root_dir,\n",
    "                manipulated_data_dir=config.manipulated_data_dir,\n",
    "                data_without_outliers_dir=config.data_without_outliers_dir,\n",
    "                STATUS_FILE=config.STATUS_FILE\n",
    "            )\n",
    "            return outlier_detection_config\n",
    "        except Exception as e:\n",
    "            raise e\n",
    "        \n",
    "        "
   ]
  },
  {
   "cell_type": "markdown",
   "metadata": {},
   "source": [
    "# 4. Update the components"
   ]
  },
  {
   "cell_type": "code",
   "execution_count": 9,
   "metadata": {},
   "outputs": [],
   "source": [
    "from mlproject import logger\n",
    "import pandas as pd\n",
    "from mlproject.utils.common import get_outliers"
   ]
  },
  {
   "cell_type": "code",
   "execution_count": null,
   "metadata": {},
   "outputs": [],
   "source": [
    "class OutlierDetection:\n",
    "    \"\"\"\n",
    "    Handles the detection and removal of outliers in a dataset.\n",
    "\n",
    "    This class is responsible for identifying outliers in numeric columns of a dataset, \n",
    "    removing them, and saving the cleaned data to a specified directory. It also logs \n",
    "    the status of the operation.\n",
    "\n",
    "    Attributes:\n",
    "        config (OutlierDetectionConfig): Configuration object containing file paths and \n",
    "                                         directories needed for outlier detection.\n",
    "    \"\"\"\n",
    "    \n",
    "    def __init__(self, config: OutlierDetectionConfig) -> None:\n",
    "        \"\"\"\n",
    "        Initializes the OutlierDetection object.\n",
    "\n",
    "        Args:\n",
    "            config (OutlierDetectionConfig): Configuration object containing file paths \n",
    "                                             and directories for outlier detection.\n",
    "        \"\"\"\n",
    "        self.config = config\n",
    "        \n",
    "    def handle_outliers(self) -> pd.DataFrame:\n",
    "        \"\"\"\n",
    "        Detects and removes outliers from specific numeric columns in the dataset.\n",
    "\n",
    "        - Identifies outliers in predefined numeric columns using the `get_outliers` function.\n",
    "        - Drops rows with outliers from the dataset.\n",
    "        - Saves the cleaned dataset to the configured directory.\n",
    "        - Logs the status of the operation in the status file.\n",
    "\n",
    "        Returns:\n",
    "            pd.DataFrame: The DataFrame after removing outliers.\n",
    "\n",
    "        Raises:\n",
    "            Exception: If any error occurs during the outlier handling process.\n",
    "        \"\"\"\n",
    "        try:\n",
    "            df = pd.read_csv(self.config.manipulated_data_dir)\n",
    "            numeric_columns_with_outliers = ['loan_amount', 'income', 'Upfront_charges', 'Interest_rate_spread', 'rate_of_interest', 'property_value', 'dtir1', 'LTV']\n",
    "\n",
    "            for col in numeric_columns_with_outliers:\n",
    "                outliers = get_outliers(df, col)\n",
    "                df.drop(df[outliers].index, inplace=True)\n",
    "                \n",
    "            # Save DataFrame without outliers\n",
    "            df_without_outliers_file_path = self.config.data_without_outliers_dir  # File path for saving\n",
    "            create_directories([os.path.dirname(df_without_outliers_file_path)])  # creates this directory \"artifacts/outlier_detection\" if it doesn't already exist.\n",
    "            df.to_csv(df_without_outliers_file_path, index=False)\n",
    "            \n",
    "            # Log status\n",
    "            with open(self.config.STATUS_FILE, \"a\") as status_file:\n",
    "                status_file.write(\"Outliers handles and data saved successfully.\\n\")\n",
    "            return df\n",
    "        except Exception as e:\n",
    "            raise e"
   ]
  },
  {
   "cell_type": "markdown",
   "metadata": {},
   "source": [
    "# 5. Update pipeline"
   ]
  },
  {
   "cell_type": "code",
   "execution_count": 11,
   "metadata": {},
   "outputs": [
    {
     "name": "stdout",
     "output_type": "stream",
     "text": [
      "[2024-11-20 12:57:02,327: 35 mlprojectLogger: INFO: common: .yaml file: config\\config.yaml loaded successfully.]\n",
      "[2024-11-20 12:57:02,330: 35 mlprojectLogger: INFO: common: .yaml file: params.yaml loaded successfully.]\n",
      "[2024-11-20 12:57:02,330: 54 mlprojectLogger: INFO: common: Created directory at artifacts]\n",
      "[2024-11-20 12:57:02,330: 54 mlprojectLogger: INFO: common: Created directory at artifacts/outlier_detection]\n",
      "[2024-11-20 12:57:05,140: 54 mlprojectLogger: INFO: common: Created directory at artifacts/outlier_detection]\n"
     ]
    }
   ],
   "source": [
    "try:\n",
    "    config = ConfigurationManager()\n",
    "    outlier_detection_config = config.get_outlier_detection_config()\n",
    "    outlier_handler = OutlierDetection(outlier_detection_config)\n",
    "    outlier_handler.handle_outliers()\n",
    "except Exception as e:\n",
    "    raise e"
   ]
  }
 ],
 "metadata": {
  "kernelspec": {
   "display_name": "mlproject",
   "language": "python",
   "name": "python3"
  },
  "language_info": {
   "codemirror_mode": {
    "name": "ipython",
    "version": 3
   },
   "file_extension": ".py",
   "mimetype": "text/x-python",
   "name": "python",
   "nbconvert_exporter": "python",
   "pygments_lexer": "ipython3",
   "version": "3.12.4"
  }
 },
 "nbformat": 4,
 "nbformat_minor": 2
}
