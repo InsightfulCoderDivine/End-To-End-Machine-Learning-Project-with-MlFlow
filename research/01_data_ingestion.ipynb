{
 "cells": [
  {
   "cell_type": "code",
   "execution_count": 2,
   "metadata": {},
   "outputs": [],
   "source": [
    "import os"
   ]
  },
  {
   "cell_type": "code",
   "execution_count": 3,
   "metadata": {},
   "outputs": [
    {
     "data": {
      "text/plain": [
       "'c:\\\\Users\\\\User\\\\Documents\\\\EndToEndMLProjects\\\\End-To-End-Machine-Learning-Project-with-MlFlow\\\\research'"
      ]
     },
     "execution_count": 3,
     "metadata": {},
     "output_type": "execute_result"
    }
   ],
   "source": [
    "%pwd"
   ]
  },
  {
   "cell_type": "code",
   "execution_count": 4,
   "metadata": {},
   "outputs": [
    {
     "data": {
      "text/plain": [
       "'c:\\\\Users\\\\User\\\\Documents\\\\EndToEndMLProjects\\\\End-To-End-Machine-Learning-Project-with-MlFlow'"
      ]
     },
     "execution_count": 4,
     "metadata": {},
     "output_type": "execute_result"
    }
   ],
   "source": [
    "# Go back 1 folder to be in the project folder\n",
    "os.chdir(\"../\")\n",
    "%pwd"
   ]
  },
  {
   "cell_type": "markdown",
   "metadata": {},
   "source": [
    "4. Update the entity\n",
    "\n",
    "- Copy the import and `DataIngestionConfig class` and paste it in src/entity/config_entity_.py"
   ]
  },
  {
   "cell_type": "code",
   "execution_count": 5,
   "metadata": {},
   "outputs": [],
   "source": [
    "from dataclasses import dataclass\n",
    "from pathlib import Path\n",
    "\n",
    "@dataclass(frozen=True)\n",
    "class DataIngestionConfig:\n",
    "    root_dir: Path\n",
    "    source_URL: str\n",
    "    local_data_file: Path\n",
    "    unzip_dir: Path"
   ]
  },
  {
   "cell_type": "markdown",
   "metadata": {},
   "source": [
    "5. Update the configuration manager in src config\n",
    "\n",
    "- Copy the import and `ConfigurationManager class` and paste it in src/config/configuration.py"
   ]
  },
  {
   "cell_type": "code",
   "execution_count": null,
   "metadata": {},
   "outputs": [],
   "source": [
    "# Read yaml file from 'constants/__init__.py' file\n",
    "\n",
    "from mlproject.constants import * \n",
    "from mlproject.utils.common import read_yaml, create_directories"
   ]
  },
  {
   "cell_type": "code",
   "execution_count": null,
   "metadata": {},
   "outputs": [],
   "source": [
    "class ConfigurationManager:\n",
    "    def __init__(\n",
    "        self,\n",
    "        config_filepath = CONFIG_FILE_PATH, # file path from 'constants' folder \n",
    "        params_filepath = PARAMS_FILE_PATH, # file path from 'constants' folder\n",
    "        schema_filepath = SCHEMA_FILE_PATH # file path from 'constants' folder\n",
    "        ):\n",
    "        \n",
    "        self.config = read_yaml(config_filepath)\n",
    "        self.params = read_yaml(params_filepath)\n",
    "        self.schema = read_yaml(schema_filepath)\n",
    "        \n",
    "        # Creates 'artifacts' folder\n",
    "        create_directories([self.config.artifacts_root])\n",
    "        \n",
    "    def get_data_ingestion_config(self) -> DataIngestionConfig:\n",
    "        \"\"\"Function to return data_ingestion directories.\n",
    "\n",
    "        Returns:\n",
    "            DataIngestionConfig: DataIngestionConfig type.\n",
    "        \"\"\"\n",
    "        # Access all 'data_ingestion' variables from config.yaml\n",
    "        config = self.config.data_ingestion\n",
    "        \n",
    "        # Creates data_ingestion directory\n",
    "        create_directories([config.root_dir])\n",
    "        \n",
    "        data_ingestion_config = DataIngestionConfig(\n",
    "            root_dir = config.root_dir,\n",
    "            source_URL = config.source_URL,\n",
    "            local_data_file = config.local_data_file,\n",
    "            unzip_dir = config.unzip_dir\n",
    "        )\n",
    "        \n",
    "        return data_ingestion_config"
   ]
  },
  {
   "cell_type": "markdown",
   "metadata": {},
   "source": [
    "6. Update the components\n",
    "\n",
    "- Create a file if not exist in src/components named `data_ingestion.py`\n",
    "- Copy the `import` and `DataIngestion class` and paste it in src/components/data_ingestion.py"
   ]
  },
  {
   "cell_type": "code",
   "execution_count": null,
   "metadata": {},
   "outputs": [],
   "source": [
    "import os\n",
    "import urllib.request as request\n",
    "import zipfile\n",
    "from pathlib import Path\n",
    "from mlproject import logger\n",
    "from mlproject.utils.common import get_size"
   ]
  },
  {
   "cell_type": "code",
   "execution_count": 9,
   "metadata": {},
   "outputs": [],
   "source": [
    "class DataIngestion:\n",
    "    def __init__(self, config: DataIngestionConfig):\n",
    "        self.config = config\n",
    "        \n",
    "    def download_file(self):\n",
    "        \"\"\"Download the .zip file.\n",
    "        \"\"\"\n",
    "        # Ensure the file to download is a .zip\n",
    "        if not self.config.source_URL.endswith(\".zip\"):\n",
    "            raise ValueError(\"Check data_ingestion config.yaml file, source_URL is not a .zip file.\")\n",
    "        \n",
    "        if not os.path.exists(self.config.local_data_file):\n",
    "            filename, headers = request.urlretrieve(\n",
    "                url=self.config.source_URL,\n",
    "                filename=self.config.local_data_file\n",
    "            )\n",
    "            logger.info(f\"{filename} download! with following info: \\n{headers}\")\n",
    "        else:\n",
    "            logger.info(f\"File already exists of size: {get_size(Path(self.config.local_data_file))}\")\n",
    "            \n",
    "    def extract_zip_file(self):\n",
    "        \"\"\"Extracts the zip file into the directory.\n",
    "        \"\"\"\n",
    "        unzip_path = self.config.unzip_dir        \n",
    "        \n",
    "        os.makedirs(unzip_path, exist_ok=True)\n",
    "        with zipfile.ZipFile(file=self.config.local_data_file, mode='r') as zip_ref:\n",
    "            zip_ref.extractall(unzip_path)\n",
    "        "
   ]
  },
  {
   "cell_type": "markdown",
   "metadata": {},
   "source": [
    "7. Update the pipeline \n",
    "\n",
    "- Create a file if not exists in src/pipeline named `stage_01_data_ingestion.py`. First Step in pipeline.\n",
    "- import necessary class: `ConfigurationManager`, `DataIngestion`, and `logger`\n",
    "- Copy the code below and paste it in `src/pipeline/stage_01_data_ingestion.py`"
   ]
  },
  {
   "cell_type": "code",
   "execution_count": 13,
   "metadata": {},
   "outputs": [
    {
     "name": "stdout",
     "output_type": "stream",
     "text": [
      "[2024-11-15 10:52:17,433: 35 mlprojectLogger: INFO: common: .yaml file: config\\config.yaml loaded successfully.]\n",
      "[2024-11-15 10:52:17,446: 35 mlprojectLogger: INFO: common: .yaml file: params.yaml loaded successfully.]\n",
      "[2024-11-15 10:52:17,446: 35 mlprojectLogger: INFO: common: .yaml file: schema.yaml loaded successfully.]\n",
      "[2024-11-15 10:52:17,487: 54 mlprojectLogger: INFO: common: Created directory at artifacts]\n",
      "[2024-11-15 10:52:17,489: 54 mlprojectLogger: INFO: common: Created directory at artifacts/data_ingestion]\n",
      "[2024-11-15 10:52:22,294: 17 mlprojectLogger: INFO: 3003930919: artifacts/data_ingestion/data.zip download! with following info: \n",
      "Connection: close\n",
      "Content-Length: 5123932\n",
      "Cache-Control: max-age=300\n",
      "Content-Security-Policy: default-src 'none'; style-src 'unsafe-inline'; sandbox\n",
      "Content-Type: application/zip\n",
      "ETag: \"8cc8e409e45ac3f6e17b1e8a257b6c9549f254d81c4b9475fa6d620e514025b3\"\n",
      "Strict-Transport-Security: max-age=31536000\n",
      "X-Content-Type-Options: nosniff\n",
      "X-Frame-Options: deny\n",
      "X-XSS-Protection: 1; mode=block\n",
      "X-GitHub-Request-Id: CA19:1EBF5D:641EE:73041:6737C285\n",
      "Accept-Ranges: bytes\n",
      "Date: Fri, 15 Nov 2024 21:52:08 GMT\n",
      "Via: 1.1 varnish\n",
      "X-Served-By: cache-lon4233-LON\n",
      "X-Cache: MISS\n",
      "X-Cache-Hits: 0\n",
      "X-Timer: S1731707528.001522,VS0,VE294\n",
      "Vary: Authorization,Accept-Encoding,Origin\n",
      "Access-Control-Allow-Origin: *\n",
      "Cross-Origin-Resource-Policy: cross-origin\n",
      "X-Fastly-Request-ID: b5d1f8ffcfeb36e1d07d3b5a13e0adba6859591c\n",
      "Expires: Fri, 15 Nov 2024 21:57:08 GMT\n",
      "Source-Age: 0\n",
      "\n",
      "]\n"
     ]
    }
   ],
   "source": [
    "# Test run\n",
    "try:\n",
    "    config = ConfigurationManager()\n",
    "    data_ingestion_config = config.get_data_ingestion_config()\n",
    "    data_ingestion = DataIngestion(config=data_ingestion_config)\n",
    "    data_ingestion.download_file()\n",
    "    data_ingestion.extract_zip_file()\n",
    "    \n",
    "except Exception as e:\n",
    "    raise e"
   ]
  },
  {
   "cell_type": "markdown",
   "metadata": {},
   "source": [
    "8. Update the main.py\n",
    "\n",
    "- To test pipeline add it to `main.py`"
   ]
  },
  {
   "cell_type": "code",
   "execution_count": null,
   "metadata": {},
   "outputs": [],
   "source": []
  }
 ],
 "metadata": {
  "kernelspec": {
   "display_name": "mlproject",
   "language": "python",
   "name": "python3"
  },
  "language_info": {
   "codemirror_mode": {
    "name": "ipython",
    "version": 3
   },
   "file_extension": ".py",
   "mimetype": "text/x-python",
   "name": "python",
   "nbconvert_exporter": "python",
   "pygments_lexer": "ipython3",
   "version": "3.12.4"
  }
 },
 "nbformat": 4,
 "nbformat_minor": 2
}
